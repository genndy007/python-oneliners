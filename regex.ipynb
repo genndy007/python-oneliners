{
 "metadata": {
  "language_info": {
   "codemirror_mode": {
    "name": "ipython",
    "version": 3
   },
   "file_extension": ".py",
   "mimetype": "text/x-python",
   "name": "python",
   "nbconvert_exporter": "python",
   "pygments_lexer": "ipython3",
   "version": "3.9.5-final"
  },
  "orig_nbformat": 2,
  "kernelspec": {
   "name": "python39564bitb71bcfa2051b488bb42abc10d5447d7a",
   "display_name": "Python 3.9.5 64-bit"
  }
 },
 "nbformat": 4,
 "nbformat_minor": 2,
 "cells": [
  {
   "source": [
    "# Search basic text patterns"
   ],
   "cell_type": "markdown",
   "metadata": {}
  },
  {
   "cell_type": "code",
   "execution_count": 1,
   "metadata": {},
   "outputs": [],
   "source": [
    "import re \n",
    "\n",
    "text = '''A blockchain, originally block chain, is a growing list of records, called blocks, which are linked using cryptography.'''\n",
    "\n"
   ]
  },
  {
   "source": [
    "## text regex"
   ],
   "cell_type": "markdown",
   "metadata": {}
  },
  {
   "cell_type": "code",
   "execution_count": 4,
   "metadata": {},
   "outputs": [
    {
     "output_type": "execute_result",
     "data": {
      "text/plain": [
       "['orig']"
      ]
     },
     "metadata": {},
     "execution_count": 4
    }
   ],
   "source": [
    "re.findall('orig', text)"
   ]
  },
  {
   "source": [
    "## dot regex "
   ],
   "cell_type": "markdown",
   "metadata": {}
  },
  {
   "cell_type": "code",
   "execution_count": 22,
   "metadata": {},
   "outputs": [
    {
     "output_type": "execute_result",
     "data": {
      "text/plain": [
       "['y', 'y', 'y']"
      ]
     },
     "metadata": {},
     "execution_count": 22
    }
   ],
   "source": [
    "re.findall('y.*?y', text)"
   ]
  },
  {
   "source": [
    "## asterisk regex"
   ],
   "cell_type": "markdown",
   "metadata": {}
  },
  {
   "cell_type": "code",
   "execution_count": 18,
   "metadata": {},
   "outputs": [
    {
     "output_type": "execute_result",
     "data": {
      "text/plain": [
       "['oc']"
      ]
     },
     "metadata": {},
     "execution_count": 18
    }
   ],
   "source": [
    "# oc = 'ocmdkcmdkmc'\n",
    "re.findall('ock*', text)"
   ]
  },
  {
   "source": [
    "## zero-or-one question mark"
   ],
   "cell_type": "markdown",
   "metadata": {}
  },
  {
   "cell_type": "code",
   "execution_count": 23,
   "metadata": {},
   "outputs": [
    {
     "output_type": "execute_result",
     "data": {
      "text/plain": [
       "['block', 'block', 'blocks']"
      ]
     },
     "metadata": {},
     "execution_count": 23
    }
   ],
   "source": [
    "re.findall('blocks?', text)"
   ]
  },
  {
   "source": [
    "## peter piper"
   ],
   "cell_type": "markdown",
   "metadata": {}
  },
  {
   "cell_type": "code",
   "execution_count": 25,
   "metadata": {},
   "outputs": [
    {
     "output_type": "execute_result",
     "data": {
      "text/plain": [
       "['peter', 'piper', 'picked a peck of pickled pepper']"
      ]
     },
     "metadata": {},
     "execution_count": 25
    }
   ],
   "source": [
    "text1 = 'peter piper picked a peck of pickled peppers' \n",
    "\n",
    "re.findall('p.*?e.*?r', text1)"
   ]
  },
  {
   "source": [
    "## crypto web scraper"
   ],
   "cell_type": "markdown",
   "metadata": {}
  },
  {
   "cell_type": "code",
   "execution_count": 32,
   "metadata": {},
   "outputs": [
    {
     "output_type": "stream",
     "name": "stdout",
     "text": [
      "None\n"
     ]
    }
   ],
   "source": [
    "import urllib.request as libreq\n",
    "\n",
    "search_phrase = 'crypto'\n",
    "url = 'https://www.wired.com/'\n",
    "\n",
    "with libreq.urlopen(url) as res:\n",
    "    html = res.read().decode('utf8')\n",
    "    # news = re.findall('crypto(.{1,30})coin', html)\n",
    "    pattern = re.compile(f'{search_phrase}(.{1,30})coin')\n",
    "    print(pattern.match(html))"
   ]
  },
  {
   "cell_type": "code",
   "execution_count": 36,
   "metadata": {},
   "outputs": [
    {
     "output_type": "stream",
     "name": "stdout",
     "text": [
      "<re.Match object; span=(0, 34), match='crypto-bot that is trading Bitcoin'>\nNone\n"
     ]
    }
   ],
   "source": [
    "text_1 = \"crypto-bot that is trading Bitcoin and other currencies\"\n",
    "text_2 = \"cryptographic encryption methods that can be cracked easily with quantum computers\"\n",
    "\n",
    "pattern = re.compile(search_phrase + '(.{1,30})coin')\n",
    "\n",
    "print(pattern.match(text_1))\n",
    "print(pattern.match(text_2))"
   ]
  },
  {
   "cell_type": "code",
   "execution_count": null,
   "metadata": {},
   "outputs": [],
   "source": []
  },
  {
   "cell_type": "code",
   "execution_count": null,
   "metadata": {},
   "outputs": [],
   "source": []
  },
  {
   "cell_type": "code",
   "execution_count": null,
   "metadata": {},
   "outputs": [],
   "source": []
  },
  {
   "cell_type": "code",
   "execution_count": null,
   "metadata": {},
   "outputs": [],
   "source": []
  }
 ]
}