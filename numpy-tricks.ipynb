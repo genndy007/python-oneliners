{
 "metadata": {
  "language_info": {
   "codemirror_mode": {
    "name": "ipython",
    "version": 3
   },
   "file_extension": ".py",
   "mimetype": "text/x-python",
   "name": "python",
   "nbconvert_exporter": "python",
   "pygments_lexer": "ipython3",
   "version": "3.9.5-final"
  },
  "orig_nbformat": 2,
  "kernelspec": {
   "name": "python39564bitb71bcfa2051b488bb42abc10d5447d7a",
   "display_name": "Python 3.9.5 64-bit"
  }
 },
 "nbformat": 4,
 "nbformat_minor": 2,
 "cells": [
  {
   "source": [
    "# Numpy arrays workflow"
   ],
   "cell_type": "markdown",
   "metadata": {}
  },
  {
   "cell_type": "code",
   "execution_count": 6,
   "metadata": {},
   "outputs": [
    {
     "output_type": "stream",
     "name": "stdout",
     "text": [
      "[[1 2]\n [3 4]]\n"
     ]
    }
   ],
   "source": [
    "import numpy as np\n",
    "\n",
    "# 1d\n",
    "a = np.array([1,2,3])\n",
    "\n",
    "# 2d\n",
    "b = np.array(\n",
    "    [[1,2],\n",
    "    [3,4]]\n",
    ")\n",
    "print(b)"
   ]
  },
  {
   "source": [
    "# Mathematics on np arrays"
   ],
   "cell_type": "markdown",
   "metadata": {}
  },
  {
   "cell_type": "code",
   "execution_count": 9,
   "metadata": {},
   "outputs": [
    {
     "output_type": "stream",
     "name": "stdout",
     "text": [
      "[[4 2 4]\n [7 9 7]\n [5 5 5]]\n[[-2 -2 -4]\n [-3 -3  1]\n [ 3  1 -1]]\n[[ 3  0  0]\n [10 18 12]\n [ 4  6  6]]\n[[0.33333333 0.         0.        ]\n [0.4        0.5        1.33333333]\n [4.         1.5        0.66666667]]\n"
     ]
    }
   ],
   "source": [
    "a = np.array([\n",
    "    [1,0,0],\n",
    "    [2,3,4],\n",
    "    [4,3,2]\n",
    "])\n",
    "\n",
    "b = np.array([\n",
    "    [3,2,4],\n",
    "    [5,6,3],\n",
    "    [1,2,3]\n",
    "])\n",
    "\n",
    "print(a+b)\n",
    "print(a-b)\n",
    "print(a*b)\n",
    "print(a/b)"
   ]
  },
  {
   "cell_type": "code",
   "execution_count": 11,
   "metadata": {},
   "outputs": [
    {
     "output_type": "execute_result",
     "data": {
      "text/plain": [
       "2.111111111111111"
      ]
     },
     "metadata": {},
     "execution_count": 11
    }
   ],
   "source": [
    "a = np.array([\n",
    "    [1,0,0],\n",
    "    [2,3,4],\n",
    "    [4,3,2]\n",
    "])\n",
    "\n",
    "# a.max()\n",
    "# a.min()\n",
    "\n",
    "np.max(a)\n",
    "np.min(a)\n",
    "np.average(a)"
   ]
  },
  {
   "source": [
    "# Find max after-tax income in group of people"
   ],
   "cell_type": "markdown",
   "metadata": {}
  },
  {
   "cell_type": "code",
   "execution_count": 14,
   "metadata": {},
   "outputs": [
    {
     "output_type": "stream",
     "name": "stdout",
     "text": [
      "[[79.2  75.75 80.34]\n [66.   54.   52.5 ]\n [81.   70.4  76.5 ]]\n"
     ]
    },
    {
     "output_type": "execute_result",
     "data": {
      "text/plain": [
       "81.0"
      ]
     },
     "metadata": {},
     "execution_count": 14
    }
   ],
   "source": [
    "alice = [99, 101, 103]\n",
    "bob = [110, 108, 105]\n",
    "tim = [90, 88, 85]\n",
    "\n",
    "salaries = np.array([alice, bob, tim])\n",
    "taxation = np.array([\n",
    "    [0.2, 0.25, 0.22],                     \n",
    "    [0.4, 0.5, 0.5],                         \n",
    "    [0.1, 0.2, 0.1]\n",
    "])\n",
    "\n",
    "income = salaries * (1 - taxation)\n",
    "print(income)\n",
    "np.max(salaries * (1 - taxation))"
   ]
  },
  {
   "source": [
    "# Np slicing, broadcasting, indexing"
   ],
   "cell_type": "markdown",
   "metadata": {}
  },
  {
   "cell_type": "code",
   "execution_count": 67,
   "metadata": {},
   "outputs": [
    {
     "output_type": "stream",
     "name": "stdout",
     "text": [
      "(4, 4)\n"
     ]
    }
   ],
   "source": [
    "a = np.array([1,2,3,4,5,6,7,8,9])\n",
    "#print(a[1:3])\n",
    "\n",
    "b = np.array([\n",
    "    [1,2,3,4],\n",
    "    [5,6,7,8],\n",
    "    [9,10,11,12],\n",
    "    [13,14,15,16],\n",
    "])\n",
    "\n",
    "#print(b[:, 1][::2])\n",
    "\n",
    "# shape of arrays\n",
    "print(b.shape)"
   ]
  },
  {
   "source": [
    "# Increase salaries of only one profession"
   ],
   "cell_type": "markdown",
   "metadata": {}
  },
  {
   "cell_type": "code",
   "execution_count": 36,
   "metadata": {},
   "outputs": [
    {
     "output_type": "execute_result",
     "data": {
      "text/plain": [
       "array([[143, 132, 150],\n",
       "       [127, 140, 145],\n",
       "       [118, 118, 127],\n",
       "       [129, 131, 137]])"
      ]
     },
     "metadata": {},
     "execution_count": 36
    }
   ],
   "source": [
    "dataScientist =     [130, 132, 137]\n",
    "productManager =    [127, 140, 145]\n",
    "designer =          [118, 118, 127]\n",
    "softwareEngineer =  [129, 131, 137]\n",
    "\n",
    "employees = np.array([\n",
    "    dataScientist,\n",
    "    productManager,\n",
    "    designer,\n",
    "    softwareEngineer\n",
    "])\n",
    "\n",
    "employees[0, ::2] = employees[0, ::2] * 1.1\n",
    "employees"
   ]
  },
  {
   "source": [
    "# Find very polluted cities (nonzero + broadcasting) "
   ],
   "cell_type": "markdown",
   "metadata": {}
  },
  {
   "cell_type": "code",
   "execution_count": 56,
   "metadata": {},
   "outputs": [
    {
     "output_type": "execute_result",
     "data": {
      "text/plain": [
       "array(['Hong Kong', 'New York'], dtype='<U9')"
      ]
     },
     "metadata": {},
     "execution_count": 56
    }
   ],
   "source": [
    "X = np.array([\n",
    "    [ 42, 40, 41, 43, 44, 43 ], # Hong Kong\n",
    "    [ 30, 31, 29, 29, 29, 30 ], # New York\n",
    "    [ 8, 13, 31, 11, 11, 9 ], # Berlin\n",
    "    [ 11, 11, 12, 13, 11, 12 ] # Montreal\n",
    "])\n",
    "\n",
    "cities = np.array([\"Hong Kong\", \"New York\", 'Berlin', 'Montreal'])\n",
    "\n",
    "# my solution\n",
    "cities[np.nonzero((np.array([np.average(row) for row in X]) > np.average(X)))]\n",
    "\n",
    "# set(cities[np.nonzero(X > np.average(X))[0]])"
   ]
  },
  {
   "cell_type": "code",
   "execution_count": 68,
   "metadata": {},
   "outputs": [
    {
     "output_type": "execute_result",
     "data": {
      "text/plain": [
       "'tim'"
      ]
     },
     "metadata": {},
     "execution_count": 68
    }
   ],
   "source": [
    "# Go back to the taxation example in “Basic Two-Dimensional Array Arithmetic” on page 42 and pull the name of the person with the highest salary from the matrix by using this idea of selective Boolean indexing. Problem recap: How do we find the person with maximum after-tax income in a group of people, given their yearly salary and tax rates?\n",
    "\n",
    "names = np.array(['alice', 'bob', 'tim'])\n",
    "\n",
    "alice = [99, 101, 103]\n",
    "bob = [110, 108, 105]\n",
    "tim = [90, 88, 85]\n",
    "\n",
    "salaries = np.array([alice, bob, tim])\n",
    "taxation = np.array([\n",
    "    [0.2, 0.25, 0.22],                     \n",
    "    [0.4, 0.5, 0.5],                         \n",
    "    [0.1, 0.2, 0.1]\n",
    "])\n",
    "\n",
    "income = salaries * (1 - taxation)\n",
    "\n",
    "names[np.nonzero(income == np.max(income))[0]][0]"
   ]
  },
  {
   "cell_type": "code",
   "execution_count": 75,
   "metadata": {},
   "outputs": [
    {
     "output_type": "execute_result",
     "data": {
      "text/plain": [
       "array(['@instagram', '@selenagomez', '@cristiano', '@beyonce'],\n",
       "      dtype='<U21')"
      ]
     },
     "metadata": {},
     "execution_count": 75
    }
   ],
   "source": [
    "# Find instagram best superstars with boolean indexing\n",
    "\n",
    "inst = np.array([\n",
    "    [232, \"@instagram\"],                 \n",
    "    [133, \"@selenagomez\"],                 \n",
    "    [59,  \"@victoriassecret\"],                \n",
    "    [120, \"@cristiano\"],                 \n",
    "    [111, \"@beyonce\"],                 \n",
    "    [76,  \"@nike\"]\n",
    "])\n",
    "\n",
    "goal_subs_num = 100\n",
    "\n",
    "inst[inst[:, 0].astype(int) > goal_subs_num, 1]\n"
   ]
  },
  {
   "source": [
    "# Reshaping arrays"
   ],
   "cell_type": "markdown",
   "metadata": {}
  },
  {
   "cell_type": "code",
   "execution_count": 81,
   "metadata": {},
   "outputs": [
    {
     "output_type": "execute_result",
     "data": {
      "text/plain": [
       "array([2.5, 3.5, 4.5])"
      ]
     },
     "metadata": {},
     "execution_count": 81
    }
   ],
   "source": [
    "a = np.array([1,2,3,4,5,6])\n",
    "a.reshape((2,-1))\n",
    "\n",
    "solar_x = np.array([\n",
    "    [1,2,3],\n",
    "    [4,5,6]\n",
    "])\n",
    "\n",
    "np.average(solar_x, axis=0)"
   ]
  },
  {
   "cell_type": "code",
   "execution_count": null,
   "metadata": {},
   "outputs": [],
   "source": []
  },
  {
   "cell_type": "code",
   "execution_count": null,
   "metadata": {},
   "outputs": [],
   "source": []
  },
  {
   "cell_type": "code",
   "execution_count": null,
   "metadata": {},
   "outputs": [],
   "source": []
  },
  {
   "cell_type": "code",
   "execution_count": null,
   "metadata": {},
   "outputs": [],
   "source": []
  },
  {
   "cell_type": "code",
   "execution_count": null,
   "metadata": {},
   "outputs": [],
   "source": []
  },
  {
   "cell_type": "code",
   "execution_count": null,
   "metadata": {},
   "outputs": [],
   "source": []
  }
 ]
}