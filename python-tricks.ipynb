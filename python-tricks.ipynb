{
 "metadata": {
  "language_info": {
   "codemirror_mode": {
    "name": "ipython",
    "version": 3
   },
   "file_extension": ".py",
   "mimetype": "text/x-python",
   "name": "python",
   "nbconvert_exporter": "python",
   "pygments_lexer": "ipython3",
   "version": "3.9.5-final"
  },
  "orig_nbformat": 2,
  "kernelspec": {
   "name": "python39564bitb71bcfa2051b488bb42abc10d5447d7a",
   "display_name": "Python 3.9.5 64-bit"
  }
 },
 "nbformat": 4,
 "nbformat_minor": 2,
 "cells": [
  {
   "source": [
    "# Find all staff members whose salary more than some value "
   ],
   "cell_type": "markdown",
   "metadata": {}
  },
  {
   "cell_type": "code",
   "execution_count": 5,
   "metadata": {},
   "outputs": [
    {
     "output_type": "execute_result",
     "data": {
      "text/plain": [
       "['alice', 'carol']"
      ]
     },
     "metadata": {},
     "execution_count": 5
    }
   ],
   "source": [
    "employees = {\n",
    "    'alice': 100000,\n",
    "    'bob': 9999,\n",
    "    'carol': 120000,\n",
    "    'frank': 8888\n",
    "}\n",
    "\n",
    "goal_salary = 100000\n",
    "\n",
    "[name for name, salary in employees.items() if salary >= goal_salary]"
   ]
  },
  {
   "source": [
    "# Filter out words with three characters or less"
   ],
   "cell_type": "markdown",
   "metadata": {}
  },
  {
   "cell_type": "code",
   "execution_count": 7,
   "metadata": {},
   "outputs": [
    {
     "output_type": "execute_result",
     "data": {
      "text/plain": [
       "['Ishmael.',\n",
       " 'years',\n",
       " 'never',\n",
       " 'precisely',\n",
       " 'having',\n",
       " 'little',\n",
       " 'money',\n",
       " 'purse,',\n",
       " 'nothing',\n",
       " 'particular',\n",
       " 'interest',\n",
       " 'shore,',\n",
       " 'thought',\n",
       " 'would',\n",
       " 'about',\n",
       " 'little',\n",
       " 'watery',\n",
       " 'world.',\n",
       " 'driving',\n",
       " 'spleen,',\n",
       " 'regulating',\n",
       " 'circulation.']"
      ]
     },
     "metadata": {},
     "execution_count": 7
    }
   ],
   "source": [
    "text = '''Call me Ishmael. Some years ago - never mind how long precisely - having little or no money in my purse, and nothing particular to interest me on shore, I thought I would sail about a little and see the watery part of the world. It is a way I have of driving off the spleen, and regulating the circulation. - Moby Dick'''\n",
    "\n",
    "[word for word in text.split() if len(word) > 4]"
   ]
  },
  {
   "source": [
    "# Read code file and save to array"
   ],
   "cell_type": "markdown",
   "metadata": {}
  },
  {
   "cell_type": "code",
   "execution_count": 9,
   "metadata": {},
   "outputs": [
    {
     "output_type": "execute_result",
     "data": {
      "text/plain": [
       "['def func(a: int, b: int):',\n",
       " 'left = a + 1',\n",
       " 'right = b - 1',\n",
       " 'if left > 5:',\n",
       " 'right += 4',\n",
       " 'return left * right',\n",
       " 'res = func(4, 5)',\n",
       " 'print(res)']"
      ]
     },
     "metadata": {},
     "execution_count": 9
    }
   ],
   "source": [
    "filename = './somecode.py'\n",
    "\n",
    "[line.strip() for line in open(filename) if len(line.strip()) > 0]"
   ]
  },
  {
   "source": [
    "# Find strings with needed substring"
   ],
   "cell_type": "markdown",
   "metadata": {}
  },
  {
   "cell_type": "code",
   "execution_count": 14,
   "metadata": {},
   "outputs": [
    {
     "output_type": "execute_result",
     "data": {
      "text/plain": [
       "[(True, 'lambda functions are anonymous functions.'),\n",
       " (True, 'anonymous functions dont have a name.'),\n",
       " (False, 'functions are objects in Python.')]"
      ]
     },
     "metadata": {},
     "execution_count": 14
    }
   ],
   "source": [
    "txt = [\n",
    "    'lambda functions are anonymous functions.',\n",
    "    'anonymous functions dont have a name.',\n",
    "    'functions are objects in Python.',\n",
    "]\n",
    "\n",
    "goal_text = 'anonymous'\n",
    "\n",
    "# [(goal_text in line, line) for line in txt]\n",
    "list(map(lambda string: (goal_text in string, string), txt))\n"
   ]
  },
  {
   "source": [
    "# Find query word with its immediate environment"
   ],
   "cell_type": "markdown",
   "metadata": {}
  },
  {
   "cell_type": "code",
   "execution_count": 19,
   "metadata": {},
   "outputs": [
    {
     "output_type": "execute_result",
     "data": {
      "text/plain": [
       "', a fully-managed MySQL and PostgreSQL-c'"
      ]
     },
     "metadata": {},
     "execution_count": 19
    }
   ],
   "source": [
    "la = 'We spent several years building our own database engine,Amazon Aurora, a fully-managed MySQL and PostgreSQL-compatible service with the same or better durability and availability asthe commercial engines, but at one-tenth of the cost. We were not surprised when this worked.'\n",
    "\n",
    "env_size = 20\n",
    "goal_text = 'SQL'\n",
    "# la[la.find(goal_text)-env_size:la.find(goal_text)+env_size]\n",
    "\n",
    "finder = lambda s, q: s[s.find(q)-env_size:s.find(q)+env_size] if q in s else 'not found'\n",
    "\n",
    "finder(la, goal_text)"
   ]
  },
  {
   "source": [
    "# Take every other element from dataset"
   ],
   "cell_type": "markdown",
   "metadata": {}
  },
  {
   "cell_type": "code",
   "execution_count": 26,
   "metadata": {},
   "outputs": [
    {
     "output_type": "execute_result",
     "data": {
      "text/plain": [
       "[[9.8, 9.4, 9.7], [9.4, 9.3, 9.1], [7.9, 8.1, 8.0], [5.9, 4.8, 3.9]]"
      ]
     },
     "metadata": {},
     "execution_count": 26
    }
   ],
   "source": [
    "prices = [\n",
    "    [9.9, 9.8, 9.8, 9.4, 9.5, 9.7],         \n",
    "    [9.5, 9.4, 9.4, 9.3, 9.2, 9.1],         \n",
    "    [8.4, 7.9, 7.9, 8.1, 8.0, 8.0],         \n",
    "    [7.1, 5.9, 4.8, 4.8, 4.7, 3.9]\n",
    "]\n",
    "\n",
    "[lst[1::2] for lst in prices]"
   ]
  },
  {
   "source": [
    "# Replace every other string with string before it"
   ],
   "cell_type": "markdown",
   "metadata": {}
  },
  {
   "cell_type": "code",
   "execution_count": 29,
   "metadata": {},
   "outputs": [
    {
     "output_type": "execute_result",
     "data": {
      "text/plain": [
       "['Firefox',\n",
       " 'Firefox',\n",
       " 'Chrome',\n",
       " 'Chrome',\n",
       " 'Safari',\n",
       " 'Safari',\n",
       " 'Safari',\n",
       " 'Safari',\n",
       " 'Chrome',\n",
       " 'Chrome',\n",
       " 'Firefox',\n",
       " 'Firefox']"
      ]
     },
     "metadata": {},
     "execution_count": 29
    }
   ],
   "source": [
    "visitors = ['Firefox', 'corrupted', 'Chrome', 'corrupted','Safari','corrupted', 'Safari', 'corrupted','Chrome', 'corrupted', 'Firefox', 'corrupted']\n",
    "\n",
    "visitors[1::2] = visitors[::2]\n",
    "visitors"
   ]
  },
  {
   "source": [
    "# Clean cardiac data and build a plot"
   ],
   "cell_type": "markdown",
   "metadata": {}
  },
  {
   "cell_type": "code",
   "execution_count": 33,
   "metadata": {},
   "outputs": [
    {
     "output_type": "display_data",
     "data": {
      "text/plain": "<Figure size 432x288 with 1 Axes>",
      "image/svg+xml": "<?xml version=\"1.0\" encoding=\"utf-8\" standalone=\"no\"?>\n<!DOCTYPE svg PUBLIC \"-//W3C//DTD SVG 1.1//EN\"\n  \"http://www.w3.org/Graphics/SVG/1.1/DTD/svg11.dtd\">\n<svg height=\"248.518125pt\" version=\"1.1\" viewBox=\"0 0 378.465625 248.518125\" width=\"378.465625pt\" xmlns=\"http://www.w3.org/2000/svg\" xmlns:xlink=\"http://www.w3.org/1999/xlink\">\n <metadata>\n  <rdf:RDF xmlns:cc=\"http://creativecommons.org/ns#\" xmlns:dc=\"http://purl.org/dc/elements/1.1/\" xmlns:rdf=\"http://www.w3.org/1999/02/22-rdf-syntax-ns#\">\n   <cc:Work>\n    <dc:type rdf:resource=\"http://purl.org/dc/dcmitype/StillImage\"/>\n    <dc:date>2021-06-10T22:46:57.543885</dc:date>\n    <dc:format>image/svg+xml</dc:format>\n    <dc:creator>\n     <cc:Agent>\n      <dc:title>Matplotlib v3.4.1, https://matplotlib.org/</dc:title>\n     </cc:Agent>\n    </dc:creator>\n   </cc:Work>\n  </rdf:RDF>\n </metadata>\n <defs>\n  <style type=\"text/css\">*{stroke-linecap:butt;stroke-linejoin:round;}</style>\n </defs>\n <g id=\"figure_1\">\n  <g id=\"patch_1\">\n   <path d=\"M 0 248.518125 \nL 378.465625 248.518125 \nL 378.465625 0 \nL 0 0 \nz\n\" style=\"fill:none;\"/>\n  </g>\n  <g id=\"axes_1\">\n   <g id=\"patch_2\">\n    <path d=\"M 36.465625 224.64 \nL 371.265625 224.64 \nL 371.265625 7.2 \nL 36.465625 7.2 \nz\n\" style=\"fill:#ffffff;\"/>\n   </g>\n   <g id=\"matplotlib.axis_1\">\n    <g id=\"xtick_1\">\n     <g id=\"line2d_1\">\n      <defs>\n       <path d=\"M 0 0 \nL 0 3.5 \n\" id=\"m477b4c402b\" style=\"stroke:#000000;stroke-width:0.8;\"/>\n      </defs>\n      <g>\n       <use style=\"stroke:#000000;stroke-width:0.8;\" x=\"51.683807\" xlink:href=\"#m477b4c402b\" y=\"224.64\"/>\n      </g>\n     </g>\n     <g id=\"text_1\">\n      <!-- 0 -->\n      <g transform=\"translate(48.502557 239.238438)scale(0.1 -0.1)\">\n       <defs>\n        <path d=\"M 2034 4250 \nQ 1547 4250 1301 3770 \nQ 1056 3291 1056 2328 \nQ 1056 1369 1301 889 \nQ 1547 409 2034 409 \nQ 2525 409 2770 889 \nQ 3016 1369 3016 2328 \nQ 3016 3291 2770 3770 \nQ 2525 4250 2034 4250 \nz\nM 2034 4750 \nQ 2819 4750 3233 4129 \nQ 3647 3509 3647 2328 \nQ 3647 1150 3233 529 \nQ 2819 -91 2034 -91 \nQ 1250 -91 836 529 \nQ 422 1150 422 2328 \nQ 422 3509 836 4129 \nQ 1250 4750 2034 4750 \nz\n\" id=\"DejaVuSans-30\" transform=\"scale(0.015625)\"/>\n       </defs>\n       <use xlink:href=\"#DejaVuSans-30\"/>\n      </g>\n     </g>\n    </g>\n    <g id=\"xtick_2\">\n     <g id=\"line2d_2\">\n      <g>\n       <use style=\"stroke:#000000;stroke-width:0.8;\" x=\"120.08013\" xlink:href=\"#m477b4c402b\" y=\"224.64\"/>\n      </g>\n     </g>\n     <g id=\"text_2\">\n      <!-- 20 -->\n      <g transform=\"translate(113.71763 239.238438)scale(0.1 -0.1)\">\n       <defs>\n        <path d=\"M 1228 531 \nL 3431 531 \nL 3431 0 \nL 469 0 \nL 469 531 \nQ 828 903 1448 1529 \nQ 2069 2156 2228 2338 \nQ 2531 2678 2651 2914 \nQ 2772 3150 2772 3378 \nQ 2772 3750 2511 3984 \nQ 2250 4219 1831 4219 \nQ 1534 4219 1204 4116 \nQ 875 4013 500 3803 \nL 500 4441 \nQ 881 4594 1212 4672 \nQ 1544 4750 1819 4750 \nQ 2544 4750 2975 4387 \nQ 3406 4025 3406 3419 \nQ 3406 3131 3298 2873 \nQ 3191 2616 2906 2266 \nQ 2828 2175 2409 1742 \nQ 1991 1309 1228 531 \nz\n\" id=\"DejaVuSans-32\" transform=\"scale(0.015625)\"/>\n       </defs>\n       <use xlink:href=\"#DejaVuSans-32\"/>\n       <use x=\"63.623047\" xlink:href=\"#DejaVuSans-30\"/>\n      </g>\n     </g>\n    </g>\n    <g id=\"xtick_3\">\n     <g id=\"line2d_3\">\n      <g>\n       <use style=\"stroke:#000000;stroke-width:0.8;\" x=\"188.476452\" xlink:href=\"#m477b4c402b\" y=\"224.64\"/>\n      </g>\n     </g>\n     <g id=\"text_3\">\n      <!-- 40 -->\n      <g transform=\"translate(182.113952 239.238438)scale(0.1 -0.1)\">\n       <defs>\n        <path d=\"M 2419 4116 \nL 825 1625 \nL 2419 1625 \nL 2419 4116 \nz\nM 2253 4666 \nL 3047 4666 \nL 3047 1625 \nL 3713 1625 \nL 3713 1100 \nL 3047 1100 \nL 3047 0 \nL 2419 0 \nL 2419 1100 \nL 313 1100 \nL 313 1709 \nL 2253 4666 \nz\n\" id=\"DejaVuSans-34\" transform=\"scale(0.015625)\"/>\n       </defs>\n       <use xlink:href=\"#DejaVuSans-34\"/>\n       <use x=\"63.623047\" xlink:href=\"#DejaVuSans-30\"/>\n      </g>\n     </g>\n    </g>\n    <g id=\"xtick_4\">\n     <g id=\"line2d_4\">\n      <g>\n       <use style=\"stroke:#000000;stroke-width:0.8;\" x=\"256.872775\" xlink:href=\"#m477b4c402b\" y=\"224.64\"/>\n      </g>\n     </g>\n     <g id=\"text_4\">\n      <!-- 60 -->\n      <g transform=\"translate(250.510275 239.238438)scale(0.1 -0.1)\">\n       <defs>\n        <path d=\"M 2113 2584 \nQ 1688 2584 1439 2293 \nQ 1191 2003 1191 1497 \nQ 1191 994 1439 701 \nQ 1688 409 2113 409 \nQ 2538 409 2786 701 \nQ 3034 994 3034 1497 \nQ 3034 2003 2786 2293 \nQ 2538 2584 2113 2584 \nz\nM 3366 4563 \nL 3366 3988 \nQ 3128 4100 2886 4159 \nQ 2644 4219 2406 4219 \nQ 1781 4219 1451 3797 \nQ 1122 3375 1075 2522 \nQ 1259 2794 1537 2939 \nQ 1816 3084 2150 3084 \nQ 2853 3084 3261 2657 \nQ 3669 2231 3669 1497 \nQ 3669 778 3244 343 \nQ 2819 -91 2113 -91 \nQ 1303 -91 875 529 \nQ 447 1150 447 2328 \nQ 447 3434 972 4092 \nQ 1497 4750 2381 4750 \nQ 2619 4750 2861 4703 \nQ 3103 4656 3366 4563 \nz\n\" id=\"DejaVuSans-36\" transform=\"scale(0.015625)\"/>\n       </defs>\n       <use xlink:href=\"#DejaVuSans-36\"/>\n       <use x=\"63.623047\" xlink:href=\"#DejaVuSans-30\"/>\n      </g>\n     </g>\n    </g>\n    <g id=\"xtick_5\">\n     <g id=\"line2d_5\">\n      <g>\n       <use style=\"stroke:#000000;stroke-width:0.8;\" x=\"325.269098\" xlink:href=\"#m477b4c402b\" y=\"224.64\"/>\n      </g>\n     </g>\n     <g id=\"text_5\">\n      <!-- 80 -->\n      <g transform=\"translate(318.906598 239.238438)scale(0.1 -0.1)\">\n       <defs>\n        <path d=\"M 2034 2216 \nQ 1584 2216 1326 1975 \nQ 1069 1734 1069 1313 \nQ 1069 891 1326 650 \nQ 1584 409 2034 409 \nQ 2484 409 2743 651 \nQ 3003 894 3003 1313 \nQ 3003 1734 2745 1975 \nQ 2488 2216 2034 2216 \nz\nM 1403 2484 \nQ 997 2584 770 2862 \nQ 544 3141 544 3541 \nQ 544 4100 942 4425 \nQ 1341 4750 2034 4750 \nQ 2731 4750 3128 4425 \nQ 3525 4100 3525 3541 \nQ 3525 3141 3298 2862 \nQ 3072 2584 2669 2484 \nQ 3125 2378 3379 2068 \nQ 3634 1759 3634 1313 \nQ 3634 634 3220 271 \nQ 2806 -91 2034 -91 \nQ 1263 -91 848 271 \nQ 434 634 434 1313 \nQ 434 1759 690 2068 \nQ 947 2378 1403 2484 \nz\nM 1172 3481 \nQ 1172 3119 1398 2916 \nQ 1625 2713 2034 2713 \nQ 2441 2713 2670 2916 \nQ 2900 3119 2900 3481 \nQ 2900 3844 2670 4047 \nQ 2441 4250 2034 4250 \nQ 1625 4250 1398 4047 \nQ 1172 3844 1172 3481 \nz\n\" id=\"DejaVuSans-38\" transform=\"scale(0.015625)\"/>\n       </defs>\n       <use xlink:href=\"#DejaVuSans-38\"/>\n       <use x=\"63.623047\" xlink:href=\"#DejaVuSans-30\"/>\n      </g>\n     </g>\n    </g>\n   </g>\n   <g id=\"matplotlib.axis_2\">\n    <g id=\"ytick_1\">\n     <g id=\"line2d_6\">\n      <defs>\n       <path d=\"M 0 0 \nL -3.5 0 \n\" id=\"m420750e58e\" style=\"stroke:#000000;stroke-width:0.8;\"/>\n      </defs>\n      <g>\n       <use style=\"stroke:#000000;stroke-width:0.8;\" x=\"36.465625\" xlink:href=\"#m420750e58e\" y=\"199.150622\"/>\n      </g>\n     </g>\n     <g id=\"text_6\">\n      <!-- 62.5 -->\n      <g transform=\"translate(7.2 202.949841)scale(0.1 -0.1)\">\n       <defs>\n        <path d=\"M 684 794 \nL 1344 794 \nL 1344 0 \nL 684 0 \nL 684 794 \nz\n\" id=\"DejaVuSans-2e\" transform=\"scale(0.015625)\"/>\n        <path d=\"M 691 4666 \nL 3169 4666 \nL 3169 4134 \nL 1269 4134 \nL 1269 2991 \nQ 1406 3038 1543 3061 \nQ 1681 3084 1819 3084 \nQ 2600 3084 3056 2656 \nQ 3513 2228 3513 1497 \nQ 3513 744 3044 326 \nQ 2575 -91 1722 -91 \nQ 1428 -91 1123 -41 \nQ 819 9 494 109 \nL 494 744 \nQ 775 591 1075 516 \nQ 1375 441 1709 441 \nQ 2250 441 2565 725 \nQ 2881 1009 2881 1497 \nQ 2881 1984 2565 2268 \nQ 2250 2553 1709 2553 \nQ 1456 2553 1204 2497 \nQ 953 2441 691 2322 \nL 691 4666 \nz\n\" id=\"DejaVuSans-35\" transform=\"scale(0.015625)\"/>\n       </defs>\n       <use xlink:href=\"#DejaVuSans-36\"/>\n       <use x=\"63.623047\" xlink:href=\"#DejaVuSans-32\"/>\n       <use x=\"127.246094\" xlink:href=\"#DejaVuSans-2e\"/>\n       <use x=\"159.033203\" xlink:href=\"#DejaVuSans-35\"/>\n      </g>\n     </g>\n    </g>\n    <g id=\"ytick_2\">\n     <g id=\"line2d_7\">\n      <g>\n       <use style=\"stroke:#000000;stroke-width:0.8;\" x=\"36.465625\" xlink:href=\"#m420750e58e\" y=\"173.141053\"/>\n      </g>\n     </g>\n     <g id=\"text_7\">\n      <!-- 65.0 -->\n      <g transform=\"translate(7.2 176.940271)scale(0.1 -0.1)\">\n       <use xlink:href=\"#DejaVuSans-36\"/>\n       <use x=\"63.623047\" xlink:href=\"#DejaVuSans-35\"/>\n       <use x=\"127.246094\" xlink:href=\"#DejaVuSans-2e\"/>\n       <use x=\"159.033203\" xlink:href=\"#DejaVuSans-30\"/>\n      </g>\n     </g>\n    </g>\n    <g id=\"ytick_3\">\n     <g id=\"line2d_8\">\n      <g>\n       <use style=\"stroke:#000000;stroke-width:0.8;\" x=\"36.465625\" xlink:href=\"#m420750e58e\" y=\"147.131483\"/>\n      </g>\n     </g>\n     <g id=\"text_8\">\n      <!-- 67.5 -->\n      <g transform=\"translate(7.2 150.930702)scale(0.1 -0.1)\">\n       <defs>\n        <path d=\"M 525 4666 \nL 3525 4666 \nL 3525 4397 \nL 1831 0 \nL 1172 0 \nL 2766 4134 \nL 525 4134 \nL 525 4666 \nz\n\" id=\"DejaVuSans-37\" transform=\"scale(0.015625)\"/>\n       </defs>\n       <use xlink:href=\"#DejaVuSans-36\"/>\n       <use x=\"63.623047\" xlink:href=\"#DejaVuSans-37\"/>\n       <use x=\"127.246094\" xlink:href=\"#DejaVuSans-2e\"/>\n       <use x=\"159.033203\" xlink:href=\"#DejaVuSans-35\"/>\n      </g>\n     </g>\n    </g>\n    <g id=\"ytick_4\">\n     <g id=\"line2d_9\">\n      <g>\n       <use style=\"stroke:#000000;stroke-width:0.8;\" x=\"36.465625\" xlink:href=\"#m420750e58e\" y=\"121.121914\"/>\n      </g>\n     </g>\n     <g id=\"text_9\">\n      <!-- 70.0 -->\n      <g transform=\"translate(7.2 124.921133)scale(0.1 -0.1)\">\n       <use xlink:href=\"#DejaVuSans-37\"/>\n       <use x=\"63.623047\" xlink:href=\"#DejaVuSans-30\"/>\n       <use x=\"127.246094\" xlink:href=\"#DejaVuSans-2e\"/>\n       <use x=\"159.033203\" xlink:href=\"#DejaVuSans-30\"/>\n      </g>\n     </g>\n    </g>\n    <g id=\"ytick_5\">\n     <g id=\"line2d_10\">\n      <g>\n       <use style=\"stroke:#000000;stroke-width:0.8;\" x=\"36.465625\" xlink:href=\"#m420750e58e\" y=\"95.112344\"/>\n      </g>\n     </g>\n     <g id=\"text_10\">\n      <!-- 72.5 -->\n      <g transform=\"translate(7.2 98.911563)scale(0.1 -0.1)\">\n       <use xlink:href=\"#DejaVuSans-37\"/>\n       <use x=\"63.623047\" xlink:href=\"#DejaVuSans-32\"/>\n       <use x=\"127.246094\" xlink:href=\"#DejaVuSans-2e\"/>\n       <use x=\"159.033203\" xlink:href=\"#DejaVuSans-35\"/>\n      </g>\n     </g>\n    </g>\n    <g id=\"ytick_6\">\n     <g id=\"line2d_11\">\n      <g>\n       <use style=\"stroke:#000000;stroke-width:0.8;\" x=\"36.465625\" xlink:href=\"#m420750e58e\" y=\"69.102775\"/>\n      </g>\n     </g>\n     <g id=\"text_11\">\n      <!-- 75.0 -->\n      <g transform=\"translate(7.2 72.901994)scale(0.1 -0.1)\">\n       <use xlink:href=\"#DejaVuSans-37\"/>\n       <use x=\"63.623047\" xlink:href=\"#DejaVuSans-35\"/>\n       <use x=\"127.246094\" xlink:href=\"#DejaVuSans-2e\"/>\n       <use x=\"159.033203\" xlink:href=\"#DejaVuSans-30\"/>\n      </g>\n     </g>\n    </g>\n    <g id=\"ytick_7\">\n     <g id=\"line2d_12\">\n      <g>\n       <use style=\"stroke:#000000;stroke-width:0.8;\" x=\"36.465625\" xlink:href=\"#m420750e58e\" y=\"43.093206\"/>\n      </g>\n     </g>\n     <g id=\"text_12\">\n      <!-- 77.5 -->\n      <g transform=\"translate(7.2 46.892424)scale(0.1 -0.1)\">\n       <use xlink:href=\"#DejaVuSans-37\"/>\n       <use x=\"63.623047\" xlink:href=\"#DejaVuSans-37\"/>\n       <use x=\"127.246094\" xlink:href=\"#DejaVuSans-2e\"/>\n       <use x=\"159.033203\" xlink:href=\"#DejaVuSans-35\"/>\n      </g>\n     </g>\n    </g>\n    <g id=\"ytick_8\">\n     <g id=\"line2d_13\">\n      <g>\n       <use style=\"stroke:#000000;stroke-width:0.8;\" x=\"36.465625\" xlink:href=\"#m420750e58e\" y=\"17.083636\"/>\n      </g>\n     </g>\n     <g id=\"text_13\">\n      <!-- 80.0 -->\n      <g transform=\"translate(7.2 20.882855)scale(0.1 -0.1)\">\n       <use xlink:href=\"#DejaVuSans-38\"/>\n       <use x=\"63.623047\" xlink:href=\"#DejaVuSans-30\"/>\n       <use x=\"127.246094\" xlink:href=\"#DejaVuSans-2e\"/>\n       <use x=\"159.033203\" xlink:href=\"#DejaVuSans-30\"/>\n      </g>\n     </g>\n    </g>\n   </g>\n   <g id=\"line2d_14\">\n    <path clip-path=\"url(#p00e324ecbd)\" d=\"M 51.683807 204.352536 \nL 55.103623 183.54488 \nL 58.523439 141.929569 \nL 61.943255 48.29512 \nL 65.363071 17.083636 \nL 68.782888 58.698947 \nL 72.202704 110.718086 \nL 75.62252 162.737225 \nL 79.042336 214.756364 \nL 82.462152 204.352536 \nL 85.881968 183.54488 \nL 89.301784 141.929569 \nL 92.7216 48.29512 \nL 96.141417 17.083636 \nL 99.561233 58.698947 \nL 102.981049 110.718086 \nL 106.400865 162.737225 \nL 109.820681 214.756364 \nL 113.240497 204.352536 \nL 116.660313 183.54488 \nL 120.08013 141.929569 \nL 123.499946 48.29512 \nL 126.919762 17.083636 \nL 130.339578 58.698947 \nL 133.759394 110.718086 \nL 137.17921 162.737225 \nL 140.599026 214.756364 \nL 144.018843 204.352536 \nL 147.438659 183.54488 \nL 150.858475 141.929569 \nL 154.278291 48.29512 \nL 157.698107 17.083636 \nL 161.117923 58.698947 \nL 164.537739 110.718086 \nL 167.957556 162.737225 \nL 171.377372 214.756364 \nL 174.797188 204.352536 \nL 178.217004 183.54488 \nL 181.63682 141.929569 \nL 185.056636 48.29512 \nL 188.476452 17.083636 \nL 191.896269 58.698947 \nL 195.316085 110.718086 \nL 198.735901 162.737225 \nL 202.155717 214.756364 \nL 205.575533 204.352536 \nL 208.995349 183.54488 \nL 212.415165 141.929569 \nL 215.834981 48.29512 \nL 219.254798 17.083636 \nL 222.674614 58.698947 \nL 226.09443 110.718086 \nL 229.514246 162.737225 \nL 232.934062 214.756364 \nL 236.353878 204.352536 \nL 239.773694 183.54488 \nL 243.193511 141.929569 \nL 246.613327 48.29512 \nL 250.033143 17.083636 \nL 253.452959 58.698947 \nL 256.872775 110.718086 \nL 260.292591 162.737225 \nL 263.712407 214.756364 \nL 267.132224 204.352536 \nL 270.55204 183.54488 \nL 273.971856 141.929569 \nL 277.391672 48.29512 \nL 280.811488 17.083636 \nL 284.231304 58.698947 \nL 287.65112 110.718086 \nL 291.070937 162.737225 \nL 294.490753 214.756364 \nL 297.910569 204.352536 \nL 301.330385 183.54488 \nL 304.750201 141.929569 \nL 308.170017 48.29512 \nL 311.589833 17.083636 \nL 315.00965 58.698947 \nL 318.429466 110.718086 \nL 321.849282 162.737225 \nL 325.269098 214.756364 \nL 328.688914 204.352536 \nL 332.10873 183.54488 \nL 335.528546 141.929569 \nL 338.948362 48.29512 \nL 342.368179 17.083636 \nL 345.787995 58.698947 \nL 349.207811 110.718086 \nL 352.627627 162.737225 \nL 356.047443 214.756364 \n\" style=\"fill:none;stroke:#1f77b4;stroke-linecap:square;stroke-width:1.5;\"/>\n   </g>\n   <g id=\"patch_3\">\n    <path d=\"M 36.465625 224.64 \nL 36.465625 7.2 \n\" style=\"fill:none;stroke:#000000;stroke-linecap:square;stroke-linejoin:miter;stroke-width:0.8;\"/>\n   </g>\n   <g id=\"patch_4\">\n    <path d=\"M 371.265625 224.64 \nL 371.265625 7.2 \n\" style=\"fill:none;stroke:#000000;stroke-linecap:square;stroke-linejoin:miter;stroke-width:0.8;\"/>\n   </g>\n   <g id=\"patch_5\">\n    <path d=\"M 36.465625 224.64 \nL 371.265625 224.64 \n\" style=\"fill:none;stroke:#000000;stroke-linecap:square;stroke-linejoin:miter;stroke-width:0.8;\"/>\n   </g>\n   <g id=\"patch_6\">\n    <path d=\"M 36.465625 7.2 \nL 371.265625 7.2 \n\" style=\"fill:none;stroke:#000000;stroke-linecap:square;stroke-linejoin:miter;stroke-width:0.8;\"/>\n   </g>\n  </g>\n </g>\n <defs>\n  <clipPath id=\"p00e324ecbd\">\n   <rect height=\"217.44\" width=\"334.8\" x=\"36.465625\" y=\"7.2\"/>\n  </clipPath>\n </defs>\n</svg>\n",
      "image/png": "[encoded data removed]"
     },
     "metadata": {
      "needs_background": "light"
     }
    }
   ],
   "source": [
    "import matplotlib.pyplot as plt\n",
    "\n",
    "cardiac_cycle = [62, 60, 62, 64, 68, 77, 80, 76, 71, 66, 61, 60, 62]\n",
    "\n",
    "new_cardiac = cardiac_cycle[2:-2] * 10\n",
    "\n",
    "plt.plot(new_cardiac)\n",
    "plt.show()"
   ]
  },
  {
   "source": [
    "# Extract list of companies with generator expression"
   ],
   "cell_type": "markdown",
   "metadata": {}
  },
  {
   "cell_type": "code",
   "execution_count": 45,
   "metadata": {},
   "outputs": [
    {
     "output_type": "execute_result",
     "data": {
      "text/plain": [
       "['CheapCompany', 'SosoCompany']"
      ]
     },
     "metadata": {},
     "execution_count": 45
    }
   ],
   "source": [
    "companies = {\n",
    "    'CoolCompany' : {'Alice' : 33, 'Bob' : 28, 'Frank' : 29},    \n",
    "    'CheapCompany' : {'Ann' : 4, 'Lee' : 9, 'Chrisi' : 7},    \n",
    "    'SosoCompany' : {'Esther' : 38, 'Cole' : 8, 'Paris' : 18}\n",
    "}\n",
    "\n",
    "min_salary = 9\n",
    "\n",
    "# [name for name, salary_info in companies.items() if any(map(lambda s: s < min_salary, salary_info.values()))]\n",
    "\n",
    "[name for name in companies if any(s < min_salary for s in companies[name].values())]"
   ]
  },
  {
   "cell_type": "code",
   "execution_count": 53,
   "metadata": {},
   "outputs": [
    {
     "output_type": "execute_result",
     "data": {
      "text/plain": [
       "[(1, 2, 3), (4, 5, 6), (7, 8, 9)]"
      ]
     },
     "metadata": {},
     "execution_count": 53
    }
   ],
   "source": [
    "arr = [\n",
    "    [1,2,3],\n",
    "    [4,5,6],\n",
    "    [7,8,9]\n",
    "]\n",
    "\n",
    "[word for subarr in arr for word in subarr]\n",
    "\n",
    "list(zip(*zip(*arr)))"
   ]
  },
  {
   "source": [
    "# Align column names and data to get a dictionary"
   ],
   "cell_type": "markdown",
   "metadata": {}
  },
  {
   "cell_type": "code",
   "execution_count": 61,
   "metadata": {},
   "outputs": [
    {
     "output_type": "execute_result",
     "data": {
      "text/plain": [
       "[{'name': 'Alice', 'salary': 180000, 'job': 'data scientist'},\n",
       " {'name': 'Bob', 'salary': 99000, 'job': 'mid-level manager'},\n",
       " {'name': 'Frank', 'salary': 87000, 'job': 'CEO'}]"
      ]
     },
     "metadata": {},
     "execution_count": 61
    }
   ],
   "source": [
    "column_names = ['name', 'salary', 'job']\n",
    "db_rows = [\n",
    "    ('Alice', 180000, 'data scientist'),\n",
    "    ('Bob', 99000, 'mid-level manager'),           \n",
    "    ('Frank', 87000, 'CEO')\n",
    "]\n",
    "\n",
    "[dict(zip(column_names, row)) for row in db_rows]"
   ]
  },
  {
   "cell_type": "code",
   "execution_count": 67,
   "metadata": {},
   "outputs": [
    {
     "output_type": "stream",
     "name": "stdout",
     "text": [
      "1 2 3 45\n"
     ]
    }
   ],
   "source": [
    "dick = {\n",
    "    'sep': ' ',\n",
    "    'end': '',\n",
    "}\n",
    "\n",
    "print(1,2,3,4,**dick)\n",
    "print(5)"
   ]
  },
  {
   "cell_type": "code",
   "execution_count": null,
   "metadata": {},
   "outputs": [],
   "source": []
  },
  {
   "cell_type": "code",
   "execution_count": null,
   "metadata": {},
   "outputs": [],
   "source": []
  },
  {
   "cell_type": "code",
   "execution_count": null,
   "metadata": {},
   "outputs": [],
   "source": []
  },
  {
   "cell_type": "code",
   "execution_count": null,
   "metadata": {},
   "outputs": [],
   "source": []
  }
 ]
}